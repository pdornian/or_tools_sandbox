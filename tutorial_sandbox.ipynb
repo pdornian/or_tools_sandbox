{
 "cells": [
  {
   "cell_type": "code",
   "execution_count": null,
   "id": "9619ee4e",
   "metadata": {},
   "outputs": [],
   "source": [
    "# following along with https://d-krupke.github.io/cpsat-primer/\n",
    "# this tutorial explodes in my default installation so using venv for once."
   ]
  },
  {
   "cell_type": "code",
   "execution_count": 2,
   "id": "622ea840",
   "metadata": {},
   "outputs": [],
   "source": [
    "# lil bit of the ol knapsack prob. this still just seems like integer programming to me.\n",
    "\n",
    "from ortools.sat.python import cp_model"
   ]
  },
  {
   "cell_type": "code",
   "execution_count": 3,
   "id": "7524612e",
   "metadata": {},
   "outputs": [],
   "source": [
    "# Specifying the input\n",
    "weights = [395, 658, 113, 185, 336, 494, 294, 295, 256, 530, 311, 321, 602, 855, 209, 647, 520, 387, 743, 26, 54, 420, 667, 971, 171, 354, 962, 454, 589, 131, 342, 449, 648, 14, 201, 150, 602, 831, 941, 747, 444, 982, 732, 350, 683, 279, 667, 400, 441, 786, 309, 887, 189, 119, 209, 532, 461, 420, 14, 788, 691, 510, 961, 528, 538, 476, 49, 404, 761, 435, 729, 245, 204, 401, 347, 674, 75, 40, 882, 520, 692, 104, 512, 97, 713, 779, 224, 357, 193, 431, 442, 816, 920, 28, 143, 388, 23, 374, 905, 942]\n",
    "values = [71, 15, 100, 37, 77, 28, 71, 30, 40, 22, 28, 39, 43, 61, 57, 100, 28, 47, 32, 66, 79, 70, 86, 86, 22, 57, 29, 38, 83, 73, 91, 54, 61, 63, 45, 30, 51, 5, 83, 18, 72, 89, 27, 66, 43, 64, 22, 23, 22, 72, 10, 29, 59, 45, 65, 38, 22, 68, 23, 13, 45, 34, 63, 34, 38, 30, 82, 33, 64, 100, 26, 50, 66, 40, 85, 71, 54, 25, 100, 74, 96, 62, 58, 21, 35, 36, 91, 7, 19, 32, 77, 70, 23, 43, 78, 98, 30, 12, 76, 38]\n",
    "capacity = 2000"
   ]
  },
  {
   "cell_type": "code",
   "execution_count": 4,
   "id": "e4ec7472",
   "metadata": {},
   "outputs": [],
   "source": [
    "# Now we solve the problem\n",
    "model = cp_model.CpModel() #init model\n",
    "xs = [model.new_bool_var(f\"x_{i}\") for i in range(len(weights))] #init bool vars"
   ]
  },
  {
   "cell_type": "code",
   "execution_count": 29,
   "id": "e4f2aa43",
   "metadata": {},
   "outputs": [],
   "source": [
    "total_weight = sum(x * w for x, w in zip(xs, weights))\n",
    "obj_value = sum(x * v for x, v in zip(xs, values))"
   ]
  },
  {
   "cell_type": "code",
   "execution_count": 31,
   "id": "69452bf7",
   "metadata": {},
   "outputs": [],
   "source": [
    "model.add(total_weight <= capacity) # weights less than capacity\n",
    "model.maximize(obj_value) # objective func maxes values"
   ]
  },
  {
   "cell_type": "code",
   "execution_count": 32,
   "id": "67901837",
   "metadata": {},
   "outputs": [
    {
     "data": {
      "text/plain": [
       "4"
      ]
     },
     "execution_count": 32,
     "metadata": {},
     "output_type": "execute_result"
    }
   ],
   "source": [
    "solver = cp_model.CpSolver()\n",
    "solver.solve(model)\n",
    "\n",
    "# this outputs 4\n",
    "# according to AI,\n",
    "# 0 - Unknown\n",
    "# 1 - Model Invalid\n",
    "# 2 - Feasible\n",
    "# 3 - Infeasible\n",
    "# 4 - Optimal\n",
    "\n",
    "# somehow, i can't find that information in the actual docs."
   ]
  },
  {
   "cell_type": "code",
   "execution_count": 33,
   "id": "e7edd5d7",
   "metadata": {},
   "outputs": [
    {
     "data": {
      "text/plain": [
       "'OPTIMAL'"
      ]
     },
     "execution_count": 33,
     "metadata": {},
     "output_type": "execute_result"
    }
   ],
   "source": [
    "solver.status_name()"
   ]
  },
  {
   "cell_type": "code",
   "execution_count": 34,
   "id": "666980e6",
   "metadata": {},
   "outputs": [
    {
     "name": "stdout",
     "output_type": "stream",
     "text": [
      "Optimal selection: [2, 14, 19, 20, 29, 33, 52, 53, 54, 58, 66, 72, 76, 77, 81, 86, 93, 94, 96]\n",
      "Total packed value: 1161.0\n",
      "Total packed weight: 1968\n"
     ]
    }
   ],
   "source": [
    "print(\"Optimal selection:\", [i for i, x in enumerate(xs) if solver.value(x)])\n",
    "print(\"Total packed value:\", solver.objective_value)\n",
    "\n",
    "# what is the total weight of our sol?\n",
    "print(f\"Total packed weight: {solver.value(total_weight)}\")"
   ]
  }
 ],
 "metadata": {
  "kernelspec": {
   "display_name": ".venv",
   "language": "python",
   "name": "python3"
  },
  "language_info": {
   "codemirror_mode": {
    "name": "ipython",
    "version": 3
   },
   "file_extension": ".py",
   "mimetype": "text/x-python",
   "name": "python",
   "nbconvert_exporter": "python",
   "pygments_lexer": "ipython3",
   "version": "3.11.5"
  }
 },
 "nbformat": 4,
 "nbformat_minor": 5
}
